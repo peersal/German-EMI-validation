{
 "cells": [
  {
   "cell_type": "markdown",
   "id": "5cf95378",
   "metadata": {
    "_cell_guid": "b1076dfc-b9ad-4769-8c92-a6c4dae69d19",
    "_uuid": "8f2839f25d086af736a60e9eeb907d3b93b6e0e5",
    "papermill": {
     "duration": 0.002873,
     "end_time": "2024-06-23T10:49:25.699344",
     "exception": false,
     "start_time": "2024-06-23T10:49:25.696471",
     "status": "completed"
    },
    "tags": []
   },
   "source": []
  },
  {
   "cell_type": "code",
   "execution_count": 1,
   "id": "fcce4412",
   "metadata": {
    "execution": {
     "iopub.execute_input": "2024-06-23T10:49:25.705956Z",
     "iopub.status.busy": "2024-06-23T10:49:25.705560Z",
     "iopub.status.idle": "2024-06-23T10:50:11.292856Z",
     "shell.execute_reply": "2024-06-23T10:50:11.291656Z"
    },
    "papermill": {
     "duration": 45.593637,
     "end_time": "2024-06-23T10:50:11.295559",
     "exception": false,
     "start_time": "2024-06-23T10:49:25.701922",
     "status": "completed"
    },
    "tags": []
   },
   "outputs": [
    {
     "name": "stdout",
     "output_type": "stream",
     "text": [
      "Collecting sentence-transformers\r\n",
      "  Downloading sentence_transformers-3.0.1-py3-none-any.whl.metadata (10 kB)\r\n",
      "Requirement already satisfied: gensim in /opt/conda/lib/python3.10/site-packages (4.3.2)\r\n",
      "Requirement already satisfied: transformers<5.0.0,>=4.34.0 in /opt/conda/lib/python3.10/site-packages (from sentence-transformers) (4.41.2)\r\n",
      "Requirement already satisfied: tqdm in /opt/conda/lib/python3.10/site-packages (from sentence-transformers) (4.66.4)\r\n",
      "Requirement already satisfied: torch>=1.11.0 in /opt/conda/lib/python3.10/site-packages (from sentence-transformers) (2.1.2+cpu)\r\n",
      "Requirement already satisfied: numpy in /opt/conda/lib/python3.10/site-packages (from sentence-transformers) (1.26.4)\r\n",
      "Requirement already satisfied: scikit-learn in /opt/conda/lib/python3.10/site-packages (from sentence-transformers) (1.2.2)\r\n",
      "Requirement already satisfied: scipy in /opt/conda/lib/python3.10/site-packages (from sentence-transformers) (1.11.4)\r\n",
      "Requirement already satisfied: huggingface-hub>=0.15.1 in /opt/conda/lib/python3.10/site-packages (from sentence-transformers) (0.23.2)\r\n",
      "Requirement already satisfied: Pillow in /opt/conda/lib/python3.10/site-packages (from sentence-transformers) (9.5.0)\r\n",
      "Requirement already satisfied: smart-open>=1.8.1 in /opt/conda/lib/python3.10/site-packages (from gensim) (6.4.0)\r\n",
      "Requirement already satisfied: filelock in /opt/conda/lib/python3.10/site-packages (from huggingface-hub>=0.15.1->sentence-transformers) (3.13.1)\r\n",
      "Requirement already satisfied: fsspec>=2023.5.0 in /opt/conda/lib/python3.10/site-packages (from huggingface-hub>=0.15.1->sentence-transformers) (2024.3.1)\r\n",
      "Requirement already satisfied: packaging>=20.9 in /opt/conda/lib/python3.10/site-packages (from huggingface-hub>=0.15.1->sentence-transformers) (21.3)\r\n",
      "Requirement already satisfied: pyyaml>=5.1 in /opt/conda/lib/python3.10/site-packages (from huggingface-hub>=0.15.1->sentence-transformers) (6.0.1)\r\n",
      "Requirement already satisfied: requests in /opt/conda/lib/python3.10/site-packages (from huggingface-hub>=0.15.1->sentence-transformers) (2.32.3)\r\n",
      "Requirement already satisfied: typing-extensions>=3.7.4.3 in /opt/conda/lib/python3.10/site-packages (from huggingface-hub>=0.15.1->sentence-transformers) (4.9.0)\r\n",
      "Requirement already satisfied: sympy in /opt/conda/lib/python3.10/site-packages (from torch>=1.11.0->sentence-transformers) (1.12.1)\r\n",
      "Requirement already satisfied: networkx in /opt/conda/lib/python3.10/site-packages (from torch>=1.11.0->sentence-transformers) (3.2.1)\r\n",
      "Requirement already satisfied: jinja2 in /opt/conda/lib/python3.10/site-packages (from torch>=1.11.0->sentence-transformers) (3.1.2)\r\n",
      "Requirement already satisfied: regex!=2019.12.17 in /opt/conda/lib/python3.10/site-packages (from transformers<5.0.0,>=4.34.0->sentence-transformers) (2023.12.25)\r\n",
      "Requirement already satisfied: tokenizers<0.20,>=0.19 in /opt/conda/lib/python3.10/site-packages (from transformers<5.0.0,>=4.34.0->sentence-transformers) (0.19.1)\r\n",
      "Requirement already satisfied: safetensors>=0.4.1 in /opt/conda/lib/python3.10/site-packages (from transformers<5.0.0,>=4.34.0->sentence-transformers) (0.4.3)\r\n",
      "Requirement already satisfied: joblib>=1.1.1 in /opt/conda/lib/python3.10/site-packages (from scikit-learn->sentence-transformers) (1.4.2)\r\n",
      "Requirement already satisfied: threadpoolctl>=2.0.0 in /opt/conda/lib/python3.10/site-packages (from scikit-learn->sentence-transformers) (3.2.0)\r\n",
      "Requirement already satisfied: pyparsing!=3.0.5,>=2.0.2 in /opt/conda/lib/python3.10/site-packages (from packaging>=20.9->huggingface-hub>=0.15.1->sentence-transformers) (3.1.1)\r\n",
      "Requirement already satisfied: MarkupSafe>=2.0 in /opt/conda/lib/python3.10/site-packages (from jinja2->torch>=1.11.0->sentence-transformers) (2.1.3)\r\n",
      "Requirement already satisfied: charset-normalizer<4,>=2 in /opt/conda/lib/python3.10/site-packages (from requests->huggingface-hub>=0.15.1->sentence-transformers) (3.3.2)\r\n",
      "Requirement already satisfied: idna<4,>=2.5 in /opt/conda/lib/python3.10/site-packages (from requests->huggingface-hub>=0.15.1->sentence-transformers) (3.6)\r\n",
      "Requirement already satisfied: urllib3<3,>=1.21.1 in /opt/conda/lib/python3.10/site-packages (from requests->huggingface-hub>=0.15.1->sentence-transformers) (1.26.18)\r\n",
      "Requirement already satisfied: certifi>=2017.4.17 in /opt/conda/lib/python3.10/site-packages (from requests->huggingface-hub>=0.15.1->sentence-transformers) (2024.2.2)\r\n",
      "Requirement already satisfied: mpmath<1.4.0,>=1.1.0 in /opt/conda/lib/python3.10/site-packages (from sympy->torch>=1.11.0->sentence-transformers) (1.3.0)\r\n",
      "Downloading sentence_transformers-3.0.1-py3-none-any.whl (227 kB)\r\n",
      "\u001b[2K   \u001b[90m━━━━━━━━━━━━━━━━━━━━━━━━━━━━━━━━━━━━━━━━\u001b[0m \u001b[32m227.1/227.1 kB\u001b[0m \u001b[31m6.8 MB/s\u001b[0m eta \u001b[36m0:00:00\u001b[0m\r\n",
      "\u001b[?25hInstalling collected packages: sentence-transformers\r\n",
      "Successfully installed sentence-transformers-3.0.1\r\n"
     ]
    },
    {
     "name": "stderr",
     "output_type": "stream",
     "text": [
      "/opt/conda/lib/python3.10/site-packages/sentence_transformers/cross_encoder/CrossEncoder.py:11: TqdmExperimentalWarning: Using `tqdm.autonotebook.tqdm` in notebook mode. Use `tqdm.tqdm` instead to force console mode (e.g. in jupyter console)\n",
      "  from tqdm.autonotebook import tqdm, trange\n",
      "2024-06-23 10:50:00.313422: E external/local_xla/xla/stream_executor/cuda/cuda_dnn.cc:9261] Unable to register cuDNN factory: Attempting to register factory for plugin cuDNN when one has already been registered\n",
      "2024-06-23 10:50:00.313577: E external/local_xla/xla/stream_executor/cuda/cuda_fft.cc:607] Unable to register cuFFT factory: Attempting to register factory for plugin cuFFT when one has already been registered\n",
      "2024-06-23 10:50:00.471711: E external/local_xla/xla/stream_executor/cuda/cuda_blas.cc:1515] Unable to register cuBLAS factory: Attempting to register factory for plugin cuBLAS when one has already been registered\n"
     ]
    }
   ],
   "source": [
    "!pip install  sentence-transformers gensim \n",
    "\n",
    "# Import necessary libraries\n",
    "import pandas as pd\n",
    "import numpy as np\n",
    "from tqdm import tqdm\n",
    "from gensim.models import Word2Vec\n",
    "from sentence_transformers import SentenceTransformer, models, util\n",
    "import torch\n",
    "import os\n",
    "import pickle\n"
   ]
  },
  {
   "cell_type": "code",
   "execution_count": 2,
   "id": "49663537",
   "metadata": {
    "execution": {
     "iopub.execute_input": "2024-06-23T10:50:11.306841Z",
     "iopub.status.busy": "2024-06-23T10:50:11.306052Z",
     "iopub.status.idle": "2024-06-23T10:50:11.316808Z",
     "shell.execute_reply": "2024-06-23T10:50:11.315668Z"
    },
    "papermill": {
     "duration": 0.019676,
     "end_time": "2024-06-23T10:50:11.319253",
     "exception": false,
     "start_time": "2024-06-23T10:50:11.299577",
     "status": "completed"
    },
    "tags": []
   },
   "outputs": [],
   "source": [
    "class CustomTokenizer:\n",
    "    def __init__(self, vocab):\n",
    "        self.vocab = vocab\n",
    "\n",
    "    def tokenize(self, text):\n",
    "        return [self.vocab[word] for word in text.lower().split() if word in self.vocab]\n",
    "\n",
    "    def save(self, output_path):\n",
    "        with open(os.path.join(output_path, 'vocab.pkl'), 'wb') as f:\n",
    "            pickle.dump(self.vocab, f)\n",
    "\n",
    "    @staticmethod\n",
    "    def load(input_path):\n",
    "        with open(os.path.join(input_path, 'vocab.pkl'), 'rb') as f:\n",
    "            vocab = pickle.load(f)\n",
    "        return CustomTokenizer(vocab)\n",
    "\n",
    "def create_custom_model(word2vec_model_path):\n",
    "    # Load the Word2Vec model\n",
    "    word2vec = Word2Vec.load(word2vec_model_path)\n",
    "    embedding_weights = torch.FloatTensor(word2vec.wv.vectors)\n",
    "    vocab = word2vec.wv.key_to_index\n",
    "\n",
    "    # Create a custom tokenizer\n",
    "    custom_tokenizer = CustomTokenizer(vocab)\n",
    "\n",
    "    # Create WordEmbeddings module\n",
    "    w2v_embeddings = models.WordEmbeddings(vocab, embedding_weights)\n",
    "    w2v_embeddings.tokenizer = custom_tokenizer\n",
    "\n",
    "    # Create Pooling module\n",
    "    pooling_layer = models.Pooling(w2v_embeddings.get_word_embedding_dimension())\n",
    "\n",
    "    # Create SentenceTransformer model\n",
    "    custom_model = SentenceTransformer(modules=[w2v_embeddings, pooling_layer])\n",
    "\n",
    "    return custom_model"
   ]
  },
  {
   "cell_type": "code",
   "execution_count": 3,
   "id": "b97a91d7",
   "metadata": {
    "execution": {
     "iopub.execute_input": "2024-06-23T10:50:11.329562Z",
     "iopub.status.busy": "2024-06-23T10:50:11.329034Z",
     "iopub.status.idle": "2024-06-23T10:51:37.663782Z",
     "shell.execute_reply": "2024-06-23T10:51:37.662660Z"
    },
    "papermill": {
     "duration": 86.342795,
     "end_time": "2024-06-23T10:51:37.666163",
     "exception": false,
     "start_time": "2024-06-23T10:50:11.323368",
     "status": "completed"
    },
    "tags": []
   },
   "outputs": [
    {
     "data": {
      "application/vnd.jupyter.widget-view+json": {
       "model_id": "7c1897443ec94f13aeeaec8c7bc4a281",
       "version_major": 2,
       "version_minor": 0
      },
      "text/plain": [
       "Batches:   0%|          | 0/1 [00:00<?, ?it/s]"
      ]
     },
     "metadata": {},
     "output_type": "display_data"
    }
   ],
   "source": [
    "# Saving the model and the custom tokenizer\n",
    "model = create_custom_model('/kaggle/input/word2vec-new/word2vec_new.model')\n",
    "model.save('/kaggle/working/sbert_model')\n",
    "\n",
    "# Ensure the directory exists and save the custom tokenizer\n",
    "custom_tokenizer = model[0].tokenizer\n",
    "custom_tokenizer.save('/kaggle/working/sbert_model/0_WordEmbeddings')\n",
    "\n",
    "# Loading the model\n",
    "loaded_model = SentenceTransformer('/kaggle/working/sbert_model')\n",
    "\n",
    "# Load the custom tokenizer\n",
    "custom_tokenizer = CustomTokenizer.load('/kaggle/working/sbert_model/0_WordEmbeddings')\n",
    "loaded_model[0].tokenizer = custom_tokenizer\n",
    "\n",
    "\n",
    "# Example: encoding a sentence\n",
    "sentence_embeddings = loaded_model.encode([\"Das ist ein test\"])"
   ]
  },
  {
   "cell_type": "code",
   "execution_count": 4,
   "id": "6a2f45c3",
   "metadata": {
    "execution": {
     "iopub.execute_input": "2024-06-23T10:51:37.676513Z",
     "iopub.status.busy": "2024-06-23T10:51:37.675752Z",
     "iopub.status.idle": "2024-06-23T10:51:38.052253Z",
     "shell.execute_reply": "2024-06-23T10:51:38.050834Z"
    },
    "papermill": {
     "duration": 0.384407,
     "end_time": "2024-06-23T10:51:38.054793",
     "exception": false,
     "start_time": "2024-06-23T10:51:37.670386",
     "status": "completed"
    },
    "tags": []
   },
   "outputs": [
    {
     "data": {
      "text/plain": [
       "array([[ 0.6527207 ,  0.06922134, -0.96157366,  1.0999242 ,  0.63465333,\n",
       "         0.10980794,  0.07311545,  0.67537653, -0.940318  ,  0.6189362 ,\n",
       "         0.09219496,  0.19711597, -1.2204223 , -0.53486025, -0.6097276 ,\n",
       "        -0.77752554,  0.611468  , -0.13125095, -0.9501294 , -0.16616935,\n",
       "        -1.0042355 ,  1.1879679 ,  0.38627875, -0.88356274,  0.9980704 ,\n",
       "        -0.25445908, -0.24891172, -0.7029323 ,  0.50321424, -0.33768168,\n",
       "        -1.5039492 , -0.20570269, -0.41746753,  0.48846605, -0.08247624,\n",
       "         0.07022371,  0.24974115, -0.5829959 , -0.26858747,  0.3057723 ,\n",
       "         0.26451892,  0.7270578 , -0.32864368,  1.2760888 ,  0.85239685,\n",
       "        -0.9060792 ,  0.47935364,  0.18874416,  0.22411975, -0.54197335,\n",
       "        -1.0213695 , -2.3708992 ,  0.55412096, -0.25532648, -0.00754103,\n",
       "         0.3824754 ,  0.26769072, -0.24422595, -0.1189203 ,  0.8046151 ,\n",
       "        -1.1530076 , -1.4395635 , -1.044627  ,  0.9247408 ,  0.46085832,\n",
       "        -0.02773243,  1.4447328 , -1.059274  ,  0.71099013, -0.5003624 ,\n",
       "        -0.03761919,  0.3349893 , -0.272089  , -0.10283069, -0.28444713,\n",
       "        -0.22884654, -1.1510853 ,  0.25589415, -0.6045932 ,  0.9812649 ,\n",
       "         0.3606126 ,  0.28870198,  1.3286701 ,  0.20339221, -0.38024217,\n",
       "         0.21947347,  0.32079467,  0.49607104, -0.0628015 , -0.78456503,\n",
       "         1.6824389 ,  0.48380673, -0.22777534,  0.14502685, -0.02106074,\n",
       "         0.789559  , -0.03438169,  0.3905536 ,  0.44692072,  1.1380394 ,\n",
       "        -1.2005264 , -0.43485287,  0.91410553,  0.15300068, -1.0483085 ,\n",
       "         1.3192036 ,  0.25976992,  0.17828846,  0.14393377, -0.5635337 ,\n",
       "         0.48780888,  0.46199304,  0.6588184 , -0.8733509 , -0.09963872,\n",
       "         0.1585151 , -0.6588878 , -1.5216858 ,  0.13989544, -1.8833368 ,\n",
       "         1.3218114 ,  0.39299816,  0.5733879 ,  1.2262293 ,  0.23786877,\n",
       "        -0.85205305, -0.34186736, -1.1811199 ,  0.02038277,  0.00928733,\n",
       "         1.1064452 , -0.0108279 ,  0.11466668,  0.13496423, -0.74967986,\n",
       "         1.6097383 ,  0.37635738,  0.21245292, -0.7340609 ,  0.21449512,\n",
       "         0.8803499 , -0.7214674 , -0.15567991,  0.10505506,  0.5646607 ,\n",
       "         0.07319705, -0.7863578 , -0.44079322, -0.2289041 , -0.97920626,\n",
       "        -0.6276463 , -0.79123294, -0.25337484,  0.740571  , -0.44950628,\n",
       "         0.57626927, -0.16820437, -0.3065468 , -0.14018872, -0.33449107,\n",
       "         0.21624447, -0.22682056,  0.7743498 ,  0.91644216, -1.7519375 ,\n",
       "         1.307248  ,  0.33944792,  0.935525  ,  0.6829972 ,  0.55566347,\n",
       "        -1.8435774 ,  0.07369915, -0.9496149 , -0.06580994,  0.3597407 ,\n",
       "         0.06690161,  0.21179728, -0.68648726, -0.7596203 , -0.50648516,\n",
       "        -0.85509586,  1.2527171 ,  0.16761477,  1.0856591 , -0.74205494,\n",
       "         0.382599  ,  0.51355344, -0.49314287,  0.46132204, -0.01420474,\n",
       "         0.58477175, -0.21962444, -1.223707  ,  0.6447389 , -0.24372998,\n",
       "         0.68666005,  0.10484393, -0.5318195 ,  0.50407207, -0.4780542 ,\n",
       "        -0.66479874, -1.1276168 ,  0.2877095 ,  1.0299804 ,  0.23464662,\n",
       "        -0.17602655,  0.38570783,  0.043842  ,  0.02420973, -0.49168307,\n",
       "         0.03061697,  0.08153626, -1.191481  , -0.40983152,  0.7774749 ,\n",
       "         0.00788837, -0.49914086, -1.9684765 , -0.92325497, -0.32705665,\n",
       "         0.62142336, -0.3152882 , -1.3676621 ,  0.16234939,  0.07456082,\n",
       "        -1.8311278 ,  0.2579593 , -0.10471003,  0.12900692, -0.3514408 ,\n",
       "        -0.5530299 , -0.18731989, -0.73802173, -0.27911928,  0.13964574,\n",
       "         0.19338055, -0.34553093, -0.40710986, -0.1500673 , -2.299616  ,\n",
       "         1.1736665 ,  0.08832876, -0.12938242,  0.84632045,  0.3815354 ,\n",
       "        -0.38325363, -0.22074527,  1.5255666 ,  0.09561373, -0.02644631,\n",
       "         0.34361994,  1.1897066 ,  1.249275  ,  0.7492945 , -0.2893247 ,\n",
       "        -1.5692753 ,  1.1459851 ,  1.0184095 , -0.07553422, -1.4263759 ,\n",
       "         0.20618546,  0.31112882, -0.02182266,  0.7584332 , -0.8670146 ,\n",
       "        -0.08738102, -0.00832014, -0.41354075, -0.17235166,  0.02024295,\n",
       "        -0.57011276,  0.7734403 ,  0.28897738, -0.4376681 ,  0.65995914,\n",
       "        -0.13611561,  0.04031514,  0.24885896, -1.1064943 ,  0.33675644,\n",
       "         0.607045  ,  1.0867078 , -1.1451048 ,  0.95195603, -0.30231023,\n",
       "        -0.48493153,  0.67317617, -1.6417806 ,  0.00769046, -0.4492281 ,\n",
       "        -0.5258727 ,  0.8888061 ,  0.30113095,  0.77368456, -0.03597908,\n",
       "        -0.03075021, -0.620026  ,  0.74028385,  0.83855546,  0.08117488]],\n",
       "      dtype=float32)"
      ]
     },
     "execution_count": 4,
     "metadata": {},
     "output_type": "execute_result"
    }
   ],
   "source": [
    "sentence_embeddings"
   ]
  },
  {
   "cell_type": "code",
   "execution_count": null,
   "id": "c558e26f",
   "metadata": {
    "execution": {
     "iopub.execute_input": "2024-06-23T10:44:04.974333Z",
     "iopub.status.busy": "2024-06-23T10:44:04.973790Z",
     "iopub.status.idle": "2024-06-23T10:44:05.160032Z",
     "shell.execute_reply": "2024-06-23T10:44:05.157966Z",
     "shell.execute_reply.started": "2024-06-23T10:44:04.974287Z"
    },
    "papermill": {
     "duration": 0.003843,
     "end_time": "2024-06-23T10:51:38.063068",
     "exception": false,
     "start_time": "2024-06-23T10:51:38.059225",
     "status": "completed"
    },
    "tags": []
   },
   "outputs": [],
   "source": []
  }
 ],
 "metadata": {
  "kaggle": {
   "accelerator": "none",
   "dataSources": [
    {
     "datasetId": 5194298,
     "sourceId": 8667738,
     "sourceType": "datasetVersion"
    }
   ],
   "dockerImageVersionId": 30732,
   "isGpuEnabled": false,
   "isInternetEnabled": true,
   "language": "python",
   "sourceType": "notebook"
  },
  "kernelspec": {
   "display_name": "Python 3",
   "language": "python",
   "name": "python3"
  },
  "language_info": {
   "codemirror_mode": {
    "name": "ipython",
    "version": 3
   },
   "file_extension": ".py",
   "mimetype": "text/x-python",
   "name": "python",
   "nbconvert_exporter": "python",
   "pygments_lexer": "ipython3",
   "version": "3.10.13"
  },
  "papermill": {
   "default_parameters": {},
   "duration": 138.540783,
   "end_time": "2024-06-23T10:51:41.010318",
   "environment_variables": {},
   "exception": null,
   "input_path": "__notebook__.ipynb",
   "output_path": "__notebook__.ipynb",
   "parameters": {},
   "start_time": "2024-06-23T10:49:22.469535",
   "version": "2.5.0"
  },
  "widgets": {
   "application/vnd.jupyter.widget-state+json": {
    "state": {
     "0fc5aa814204413db208868599722bbd": {
      "model_module": "@jupyter-widgets/base",
      "model_module_version": "1.2.0",
      "model_name": "LayoutModel",
      "state": {
       "_model_module": "@jupyter-widgets/base",
       "_model_module_version": "1.2.0",
       "_model_name": "LayoutModel",
       "_view_count": null,
       "_view_module": "@jupyter-widgets/base",
       "_view_module_version": "1.2.0",
       "_view_name": "LayoutView",
       "align_content": null,
       "align_items": null,
       "align_self": null,
       "border": null,
       "bottom": null,
       "display": null,
       "flex": null,
       "flex_flow": null,
       "grid_area": null,
       "grid_auto_columns": null,
       "grid_auto_flow": null,
       "grid_auto_rows": null,
       "grid_column": null,
       "grid_gap": null,
       "grid_row": null,
       "grid_template_areas": null,
       "grid_template_columns": null,
       "grid_template_rows": null,
       "height": null,
       "justify_content": null,
       "justify_items": null,
       "left": null,
       "margin": null,
       "max_height": null,
       "max_width": null,
       "min_height": null,
       "min_width": null,
       "object_fit": null,
       "object_position": null,
       "order": null,
       "overflow": null,
       "overflow_x": null,
       "overflow_y": null,
       "padding": null,
       "right": null,
       "top": null,
       "visibility": null,
       "width": null
      }
     },
     "19dd0bd54e31457ca689d3d50325f74d": {
      "model_module": "@jupyter-widgets/controls",
      "model_module_version": "1.5.0",
      "model_name": "FloatProgressModel",
      "state": {
       "_dom_classes": [],
       "_model_module": "@jupyter-widgets/controls",
       "_model_module_version": "1.5.0",
       "_model_name": "FloatProgressModel",
       "_view_count": null,
       "_view_module": "@jupyter-widgets/controls",
       "_view_module_version": "1.5.0",
       "_view_name": "ProgressView",
       "bar_style": "success",
       "description": "",
       "description_tooltip": null,
       "layout": "IPY_MODEL_0fc5aa814204413db208868599722bbd",
       "max": 1,
       "min": 0,
       "orientation": "horizontal",
       "style": "IPY_MODEL_7322f406df8b4835821035e9a6b1ed16",
       "value": 1
      }
     },
     "2ed1efa1102c492d8871706617e34549": {
      "model_module": "@jupyter-widgets/controls",
      "model_module_version": "1.5.0",
      "model_name": "HTMLModel",
      "state": {
       "_dom_classes": [],
       "_model_module": "@jupyter-widgets/controls",
       "_model_module_version": "1.5.0",
       "_model_name": "HTMLModel",
       "_view_count": null,
       "_view_module": "@jupyter-widgets/controls",
       "_view_module_version": "1.5.0",
       "_view_name": "HTMLView",
       "description": "",
       "description_tooltip": null,
       "layout": "IPY_MODEL_596ae05f464b49a4b36442a69e840ec6",
       "placeholder": "​",
       "style": "IPY_MODEL_54f8ce7fd8d14af7a045f962af7cc2d2",
       "value": "Batches: 100%"
      }
     },
     "54f8ce7fd8d14af7a045f962af7cc2d2": {
      "model_module": "@jupyter-widgets/controls",
      "model_module_version": "1.5.0",
      "model_name": "DescriptionStyleModel",
      "state": {
       "_model_module": "@jupyter-widgets/controls",
       "_model_module_version": "1.5.0",
       "_model_name": "DescriptionStyleModel",
       "_view_count": null,
       "_view_module": "@jupyter-widgets/base",
       "_view_module_version": "1.2.0",
       "_view_name": "StyleView",
       "description_width": ""
      }
     },
     "596ae05f464b49a4b36442a69e840ec6": {
      "model_module": "@jupyter-widgets/base",
      "model_module_version": "1.2.0",
      "model_name": "LayoutModel",
      "state": {
       "_model_module": "@jupyter-widgets/base",
       "_model_module_version": "1.2.0",
       "_model_name": "LayoutModel",
       "_view_count": null,
       "_view_module": "@jupyter-widgets/base",
       "_view_module_version": "1.2.0",
       "_view_name": "LayoutView",
       "align_content": null,
       "align_items": null,
       "align_self": null,
       "border": null,
       "bottom": null,
       "display": null,
       "flex": null,
       "flex_flow": null,
       "grid_area": null,
       "grid_auto_columns": null,
       "grid_auto_flow": null,
       "grid_auto_rows": null,
       "grid_column": null,
       "grid_gap": null,
       "grid_row": null,
       "grid_template_areas": null,
       "grid_template_columns": null,
       "grid_template_rows": null,
       "height": null,
       "justify_content": null,
       "justify_items": null,
       "left": null,
       "margin": null,
       "max_height": null,
       "max_width": null,
       "min_height": null,
       "min_width": null,
       "object_fit": null,
       "object_position": null,
       "order": null,
       "overflow": null,
       "overflow_x": null,
       "overflow_y": null,
       "padding": null,
       "right": null,
       "top": null,
       "visibility": null,
       "width": null
      }
     },
     "6937f6283a9d41349185d5639e475705": {
      "model_module": "@jupyter-widgets/base",
      "model_module_version": "1.2.0",
      "model_name": "LayoutModel",
      "state": {
       "_model_module": "@jupyter-widgets/base",
       "_model_module_version": "1.2.0",
       "_model_name": "LayoutModel",
       "_view_count": null,
       "_view_module": "@jupyter-widgets/base",
       "_view_module_version": "1.2.0",
       "_view_name": "LayoutView",
       "align_content": null,
       "align_items": null,
       "align_self": null,
       "border": null,
       "bottom": null,
       "display": null,
       "flex": null,
       "flex_flow": null,
       "grid_area": null,
       "grid_auto_columns": null,
       "grid_auto_flow": null,
       "grid_auto_rows": null,
       "grid_column": null,
       "grid_gap": null,
       "grid_row": null,
       "grid_template_areas": null,
       "grid_template_columns": null,
       "grid_template_rows": null,
       "height": null,
       "justify_content": null,
       "justify_items": null,
       "left": null,
       "margin": null,
       "max_height": null,
       "max_width": null,
       "min_height": null,
       "min_width": null,
       "object_fit": null,
       "object_position": null,
       "order": null,
       "overflow": null,
       "overflow_x": null,
       "overflow_y": null,
       "padding": null,
       "right": null,
       "top": null,
       "visibility": null,
       "width": null
      }
     },
     "7322f406df8b4835821035e9a6b1ed16": {
      "model_module": "@jupyter-widgets/controls",
      "model_module_version": "1.5.0",
      "model_name": "ProgressStyleModel",
      "state": {
       "_model_module": "@jupyter-widgets/controls",
       "_model_module_version": "1.5.0",
       "_model_name": "ProgressStyleModel",
       "_view_count": null,
       "_view_module": "@jupyter-widgets/base",
       "_view_module_version": "1.2.0",
       "_view_name": "StyleView",
       "bar_color": null,
       "description_width": ""
      }
     },
     "7c1897443ec94f13aeeaec8c7bc4a281": {
      "model_module": "@jupyter-widgets/controls",
      "model_module_version": "1.5.0",
      "model_name": "HBoxModel",
      "state": {
       "_dom_classes": [],
       "_model_module": "@jupyter-widgets/controls",
       "_model_module_version": "1.5.0",
       "_model_name": "HBoxModel",
       "_view_count": null,
       "_view_module": "@jupyter-widgets/controls",
       "_view_module_version": "1.5.0",
       "_view_name": "HBoxView",
       "box_style": "",
       "children": [
        "IPY_MODEL_2ed1efa1102c492d8871706617e34549",
        "IPY_MODEL_19dd0bd54e31457ca689d3d50325f74d",
        "IPY_MODEL_a60f9633ab65484ba2004136261beaeb"
       ],
       "layout": "IPY_MODEL_ca08e534ac824fd58070199b0e86950e"
      }
     },
     "8c3e4d24d1f447a4b2b2a9f06e4e79a3": {
      "model_module": "@jupyter-widgets/controls",
      "model_module_version": "1.5.0",
      "model_name": "DescriptionStyleModel",
      "state": {
       "_model_module": "@jupyter-widgets/controls",
       "_model_module_version": "1.5.0",
       "_model_name": "DescriptionStyleModel",
       "_view_count": null,
       "_view_module": "@jupyter-widgets/base",
       "_view_module_version": "1.2.0",
       "_view_name": "StyleView",
       "description_width": ""
      }
     },
     "a60f9633ab65484ba2004136261beaeb": {
      "model_module": "@jupyter-widgets/controls",
      "model_module_version": "1.5.0",
      "model_name": "HTMLModel",
      "state": {
       "_dom_classes": [],
       "_model_module": "@jupyter-widgets/controls",
       "_model_module_version": "1.5.0",
       "_model_name": "HTMLModel",
       "_view_count": null,
       "_view_module": "@jupyter-widgets/controls",
       "_view_module_version": "1.5.0",
       "_view_name": "HTMLView",
       "description": "",
       "description_tooltip": null,
       "layout": "IPY_MODEL_6937f6283a9d41349185d5639e475705",
       "placeholder": "​",
       "style": "IPY_MODEL_8c3e4d24d1f447a4b2b2a9f06e4e79a3",
       "value": " 1/1 [00:00&lt;00:00, 17.91it/s]"
      }
     },
     "ca08e534ac824fd58070199b0e86950e": {
      "model_module": "@jupyter-widgets/base",
      "model_module_version": "1.2.0",
      "model_name": "LayoutModel",
      "state": {
       "_model_module": "@jupyter-widgets/base",
       "_model_module_version": "1.2.0",
       "_model_name": "LayoutModel",
       "_view_count": null,
       "_view_module": "@jupyter-widgets/base",
       "_view_module_version": "1.2.0",
       "_view_name": "LayoutView",
       "align_content": null,
       "align_items": null,
       "align_self": null,
       "border": null,
       "bottom": null,
       "display": null,
       "flex": null,
       "flex_flow": null,
       "grid_area": null,
       "grid_auto_columns": null,
       "grid_auto_flow": null,
       "grid_auto_rows": null,
       "grid_column": null,
       "grid_gap": null,
       "grid_row": null,
       "grid_template_areas": null,
       "grid_template_columns": null,
       "grid_template_rows": null,
       "height": null,
       "justify_content": null,
       "justify_items": null,
       "left": null,
       "margin": null,
       "max_height": null,
       "max_width": null,
       "min_height": null,
       "min_width": null,
       "object_fit": null,
       "object_position": null,
       "order": null,
       "overflow": null,
       "overflow_x": null,
       "overflow_y": null,
       "padding": null,
       "right": null,
       "top": null,
       "visibility": null,
       "width": null
      }
     }
    },
    "version_major": 2,
    "version_minor": 0
   }
  }
 },
 "nbformat": 4,
 "nbformat_minor": 5
}
