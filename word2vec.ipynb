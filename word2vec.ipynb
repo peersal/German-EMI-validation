{
 "cells": [
  {
   "cell_type": "code",
   "execution_count": 2,
   "id": "8e9edd27",
   "metadata": {
    "execution": {
     "iopub.execute_input": "2024-06-12T09:21:41.844447Z",
     "iopub.status.busy": "2024-06-12T09:21:41.844067Z",
     "iopub.status.idle": "2024-06-12T09:22:00.830070Z",
     "shell.execute_reply": "2024-06-12T09:22:00.828799Z",
     "shell.execute_reply.started": "2024-06-12T09:21:41.844418Z"
    },
    "tags": []
   },
   "outputs": [],
   "source": [
    "import nltk\n",
    "import pandas as pd \n",
    "import numpy as np\n",
    "import re\n",
    "import ast\n",
    "from tqdm import tqdm\n",
    "from gensim.models import Word2Vec\n",
    "from scipy.spatial.distance import cosine\n",
    "import gc\n",
    "import json\n",
    "import pickle\n"
   ]
  },
  {
   "cell_type": "code",
   "execution_count": 3,
   "id": "9c0b3834",
   "metadata": {
    "execution": {
     "iopub.execute_input": "2024-06-12T09:22:00.834575Z",
     "iopub.status.busy": "2024-06-12T09:22:00.832302Z",
     "iopub.status.idle": "2024-06-12T09:24:15.043960Z",
     "shell.execute_reply": "2024-06-12T09:24:15.042383Z",
     "shell.execute_reply.started": "2024-06-12T09:22:00.834520Z"
    },
    "tags": []
   },
   "outputs": [
    {
     "name": "stderr",
     "output_type": "stream",
     "text": [
      "/tmp/ipykernel_33/2297234945.py:1: DtypeWarning: Columns (10) have mixed types. Specify dtype option on import or set low_memory=False.\n",
      "  df_new = pd.read_csv(\"/kaggle/input/parliament/speeches_clean.csv\")\n"
     ]
    }
   ],
   "source": [
    "df_new = pd.read_csv(\"/kaggle/input/parliament/speeches_new.csv\")\n",
    "df_old = pd.read_csv(\"/kaggle/input/old-parliament/speeches_old.csv\")"
   ]
  },
  {
   "cell_type": "code",
   "execution_count": 3,
   "id": "141357ba",
   "metadata": {
    "execution": {
     "iopub.execute_input": "2024-06-11T14:43:11.750478Z",
     "iopub.status.busy": "2024-06-11T14:43:11.750154Z",
     "iopub.status.idle": "2024-06-11T14:43:11.779360Z",
     "shell.execute_reply": "2024-06-11T14:43:11.778208Z",
     "shell.execute_reply.started": "2024-06-11T14:43:11.750450Z"
    }
   },
   "outputs": [
    {
     "data": {
      "text/html": [
       "<div>\n",
       "<style scoped>\n",
       "    .dataframe tbody tr th:only-of-type {\n",
       "        vertical-align: middle;\n",
       "    }\n",
       "\n",
       "    .dataframe tbody tr th {\n",
       "        vertical-align: top;\n",
       "    }\n",
       "\n",
       "    .dataframe thead th {\n",
       "        text-align: right;\n",
       "    }\n",
       "</style>\n",
       "<table border=\"1\" class=\"dataframe\">\n",
       "  <thead>\n",
       "    <tr style=\"text-align: right;\">\n",
       "      <th></th>\n",
       "      <th>id</th>\n",
       "      <th>begin</th>\n",
       "      <th>end</th>\n",
       "      <th>speechContent</th>\n",
       "      <th>dateDay</th>\n",
       "      <th>dateMonth</th>\n",
       "      <th>dateYear</th>\n",
       "      <th>timestamp</th>\n",
       "    </tr>\n",
       "  </thead>\n",
       "  <tbody>\n",
       "    <tr>\n",
       "      <th>0</th>\n",
       "      <td>49</td>\n",
       "      <td>0</td>\n",
       "      <td>37</td>\n",
       "      <td>11 Sitzung\\n\\nam Donnerstag den 3. März</td>\n",
       "      <td>3</td>\n",
       "      <td>3</td>\n",
       "      <td>1887</td>\n",
       "      <td>-2613945600000</td>\n",
       "    </tr>\n",
       "    <tr>\n",
       "      <th>1</th>\n",
       "      <td>61</td>\n",
       "      <td>38</td>\n",
       "      <td>43</td>\n",
       "      <td>1887.</td>\n",
       "      <td>3</td>\n",
       "      <td>3</td>\n",
       "      <td>1887</td>\n",
       "      <td>-2613945600000</td>\n",
       "    </tr>\n",
       "    <tr>\n",
       "      <th>2</th>\n",
       "      <td>73</td>\n",
       "      <td>43</td>\n",
       "      <td>53</td>\n",
       "      <td>\\n\\n\\nSeite\\n\\n</td>\n",
       "      <td>3</td>\n",
       "      <td>3</td>\n",
       "      <td>1887</td>\n",
       "      <td>-2613945600000</td>\n",
       "    </tr>\n",
       "    <tr>\n",
       "      <th>3</th>\n",
       "      <td>85</td>\n",
       "      <td>53</td>\n",
       "      <td>111</td>\n",
       "      <td>Vorläufige Konstituirung des Reichstags 1........</td>\n",
       "      <td>3</td>\n",
       "      <td>3</td>\n",
       "      <td>1887</td>\n",
       "      <td>-2613945600000</td>\n",
       "    </tr>\n",
       "    <tr>\n",
       "      <th>4</th>\n",
       "      <td>97</td>\n",
       "      <td>112</td>\n",
       "      <td>116</td>\n",
       "      <td>33\\n\\n</td>\n",
       "      <td>3</td>\n",
       "      <td>3</td>\n",
       "      <td>1887</td>\n",
       "      <td>-2613945600000</td>\n",
       "    </tr>\n",
       "  </tbody>\n",
       "</table>\n",
       "</div>"
      ],
      "text/plain": [
       "   id  begin  end                                      speechContent  dateDay  \\\n",
       "0  49      0   37            11 Sitzung\\n\\nam Donnerstag den 3. März        3   \n",
       "1  61     38   43                                              1887.        3   \n",
       "2  73     43   53                                    \\n\\n\\nSeite\\n\\n        3   \n",
       "3  85     53  111  Vorläufige Konstituirung des Reichstags 1........        3   \n",
       "4  97    112  116                                             33\\n\\n        3   \n",
       "\n",
       "   dateMonth  dateYear      timestamp  \n",
       "0          3      1887 -2613945600000  \n",
       "1          3      1887 -2613945600000  \n",
       "2          3      1887 -2613945600000  \n",
       "3          3      1887 -2613945600000  \n",
       "4          3      1887 -2613945600000  "
      ]
     },
     "execution_count": 3,
     "metadata": {},
     "output_type": "execute_result"
    }
   ],
   "source": [
    "df_old.rename(columns={\"sentence\": \"speechContent\"}, inplace=True)\n",
    "df_old.head()"
   ]
  },
  {
   "cell_type": "code",
   "execution_count": 4,
   "id": "bd6288f8",
   "metadata": {
    "execution": {
     "iopub.execute_input": "2024-06-11T14:43:11.781041Z",
     "iopub.status.busy": "2024-06-11T14:43:11.780665Z",
     "iopub.status.idle": "2024-06-11T14:50:33.119390Z",
     "shell.execute_reply": "2024-06-11T14:50:33.117930Z",
     "shell.execute_reply.started": "2024-06-11T14:43:11.780996Z"
    }
   },
   "outputs": [
    {
     "name": "stderr",
     "output_type": "stream",
     "text": [
      "/tmp/ipykernel_33/3975187826.py:12: FutureWarning: A value is trying to be set on a copy of a DataFrame or Series through chained assignment using an inplace method.\n",
      "The behavior will change in pandas 3.0. This inplace method will never work because the intermediate object on which we are setting values always behaves as a copy.\n",
      "\n",
      "For example, when doing 'df[col].method(value, inplace=True)', try using 'df.method({col: value}, inplace=True)' or df[col] = df[col].method(value) instead, to perform the operation inplace on the original object.\n",
      "\n",
      "\n",
      "  df[\"speechContent\"].replace(to_replace=r\"\\.\\.+\", value=\" \", regex=True, inplace=True)\n",
      "/tmp/ipykernel_33/3975187826.py:13: FutureWarning: A value is trying to be set on a copy of a DataFrame or Series through chained assignment using an inplace method.\n",
      "The behavior will change in pandas 3.0. This inplace method will never work because the intermediate object on which we are setting values always behaves as a copy.\n",
      "\n",
      "For example, when doing 'df[col].method(value, inplace=True)', try using 'df.method({col: value}, inplace=True)' or df[col] = df[col].method(value) instead, to perform the operation inplace on the original object.\n",
      "\n",
      "\n",
      "  df[\"speechContent\"].replace(to_replace=r\"\\-\\-+\", value=\" \", regex=True, inplace=True)\n",
      "/tmp/ipykernel_33/3975187826.py:14: FutureWarning: A value is trying to be set on a copy of a DataFrame or Series through chained assignment using an inplace method.\n",
      "The behavior will change in pandas 3.0. This inplace method will never work because the intermediate object on which we are setting values always behaves as a copy.\n",
      "\n",
      "For example, when doing 'df[col].method(value, inplace=True)', try using 'df.method({col: value}, inplace=True)' or df[col] = df[col].method(value) instead, to perform the operation inplace on the original object.\n",
      "\n",
      "\n",
      "  df[\"speechContent\"].replace(to_replace=r\"__+\", value=\" \", regex=True, inplace=True)\n",
      "/tmp/ipykernel_33/3975187826.py:15: FutureWarning: A value is trying to be set on a copy of a DataFrame or Series through chained assignment using an inplace method.\n",
      "The behavior will change in pandas 3.0. This inplace method will never work because the intermediate object on which we are setting values always behaves as a copy.\n",
      "\n",
      "For example, when doing 'df[col].method(value, inplace=True)', try using 'df.method({col: value}, inplace=True)' or df[col] = df[col].method(value) instead, to perform the operation inplace on the original object.\n",
      "\n",
      "\n",
      "  df[\"speechContent\"].replace(to_replace=r\"\\*\\*+\", value=\" \", regex=True, inplace=True)\n",
      "/tmp/ipykernel_33/3975187826.py:16: FutureWarning: A value is trying to be set on a copy of a DataFrame or Series through chained assignment using an inplace method.\n",
      "The behavior will change in pandas 3.0. This inplace method will never work because the intermediate object on which we are setting values always behaves as a copy.\n",
      "\n",
      "For example, when doing 'df[col].method(value, inplace=True)', try using 'df.method({col: value}, inplace=True)' or df[col] = df[col].method(value) instead, to perform the operation inplace on the original object.\n",
      "\n",
      "\n",
      "  df[\"speechContent\"].replace(to_replace=r\"\\s+\", value=\" \", regex=True, inplace=True)\n",
      "100%|██████████| 10410472/10410472 [01:21<00:00, 127866.06it/s]\n",
      "100%|██████████| 10410472/10410472 [00:40<00:00, 255200.39it/s]\n",
      "/tmp/ipykernel_33/3975187826.py:12: FutureWarning: A value is trying to be set on a copy of a DataFrame or Series through chained assignment using an inplace method.\n",
      "The behavior will change in pandas 3.0. This inplace method will never work because the intermediate object on which we are setting values always behaves as a copy.\n",
      "\n",
      "For example, when doing 'df[col].method(value, inplace=True)', try using 'df.method({col: value}, inplace=True)' or df[col] = df[col].method(value) instead, to perform the operation inplace on the original object.\n",
      "\n",
      "\n",
      "  df[\"speechContent\"].replace(to_replace=r\"\\.\\.+\", value=\" \", regex=True, inplace=True)\n",
      "/tmp/ipykernel_33/3975187826.py:13: FutureWarning: A value is trying to be set on a copy of a DataFrame or Series through chained assignment using an inplace method.\n",
      "The behavior will change in pandas 3.0. This inplace method will never work because the intermediate object on which we are setting values always behaves as a copy.\n",
      "\n",
      "For example, when doing 'df[col].method(value, inplace=True)', try using 'df.method({col: value}, inplace=True)' or df[col] = df[col].method(value) instead, to perform the operation inplace on the original object.\n",
      "\n",
      "\n",
      "  df[\"speechContent\"].replace(to_replace=r\"\\-\\-+\", value=\" \", regex=True, inplace=True)\n",
      "/tmp/ipykernel_33/3975187826.py:14: FutureWarning: A value is trying to be set on a copy of a DataFrame or Series through chained assignment using an inplace method.\n",
      "The behavior will change in pandas 3.0. This inplace method will never work because the intermediate object on which we are setting values always behaves as a copy.\n",
      "\n",
      "For example, when doing 'df[col].method(value, inplace=True)', try using 'df.method({col: value}, inplace=True)' or df[col] = df[col].method(value) instead, to perform the operation inplace on the original object.\n",
      "\n",
      "\n",
      "  df[\"speechContent\"].replace(to_replace=r\"__+\", value=\" \", regex=True, inplace=True)\n",
      "/tmp/ipykernel_33/3975187826.py:15: FutureWarning: A value is trying to be set on a copy of a DataFrame or Series through chained assignment using an inplace method.\n",
      "The behavior will change in pandas 3.0. This inplace method will never work because the intermediate object on which we are setting values always behaves as a copy.\n",
      "\n",
      "For example, when doing 'df[col].method(value, inplace=True)', try using 'df.method({col: value}, inplace=True)' or df[col] = df[col].method(value) instead, to perform the operation inplace on the original object.\n",
      "\n",
      "\n",
      "  df[\"speechContent\"].replace(to_replace=r\"\\*\\*+\", value=\" \", regex=True, inplace=True)\n",
      "/tmp/ipykernel_33/3975187826.py:16: FutureWarning: A value is trying to be set on a copy of a DataFrame or Series through chained assignment using an inplace method.\n",
      "The behavior will change in pandas 3.0. This inplace method will never work because the intermediate object on which we are setting values always behaves as a copy.\n",
      "\n",
      "For example, when doing 'df[col].method(value, inplace=True)', try using 'df.method({col: value}, inplace=True)' or df[col] = df[col].method(value) instead, to perform the operation inplace on the original object.\n",
      "\n",
      "\n",
      "  df[\"speechContent\"].replace(to_replace=r\"\\s+\", value=\" \", regex=True, inplace=True)\n",
      "100%|██████████| 374169/374169 [00:43<00:00, 8654.68it/s] \n",
      "100%|██████████| 374169/374169 [00:15<00:00, 23760.75it/s]\n"
     ]
    }
   ],
   "source": [
    "tqdm.pandas()\n",
    "def preprocess(df, length_threshold):  \n",
    "    def remove_special_characters(text):\n",
    "        # Define a regular expression pattern that matches all non-alphanumeric characters except for ä, ö, ü\n",
    "        pattern = r'[^a-zA-Z0-9äöüÄÖÜ\\s]'\n",
    "        # Replace special characters with an empty string\n",
    "        clean_text = re.sub(pattern, '', text)\n",
    "        return clean_text\n",
    "\n",
    "    # Clean text\n",
    "    df['speechContent'] = df[\"speechContent\"].astype(str)\n",
    "    df[\"speechContent\"].replace(to_replace=r\"\\.\\.+\", value=\" \", regex=True, inplace=True)\n",
    "    df[\"speechContent\"].replace(to_replace=r\"\\-\\-+\", value=\" \", regex=True, inplace=True)\n",
    "    df[\"speechContent\"].replace(to_replace=r\"__+\", value=\" \", regex=True, inplace=True)\n",
    "    df[\"speechContent\"].replace(to_replace=r\"\\*\\*+\", value=\" \", regex=True, inplace=True)\n",
    "    df[\"speechContent\"].replace(to_replace=r\"\\s+\", value=\" \", regex=True, inplace=True)\n",
    "    df[\"speechContent\"] = df[\"speechContent\"].progress_apply(remove_special_characters)\n",
    "    \n",
    "    df['length'] = df[\"speechContent\"].progress_apply(lambda x: len(x.split()))\n",
    "    \n",
    "    \n",
    "    df = df[df['length'] > length_threshold]\n",
    "    \n",
    "    return df\n",
    "    \n",
    "\n",
    "df_old = preprocess(df_old, 10)\n",
    "df_new = preprocess(df_new, 10)"
   ]
  },
  {
   "cell_type": "code",
   "execution_count": 5,
   "id": "4d59ee4b",
   "metadata": {
    "execution": {
     "iopub.execute_input": "2024-06-11T14:50:33.124124Z",
     "iopub.status.busy": "2024-06-11T14:50:33.123693Z",
     "iopub.status.idle": "2024-06-11T14:51:58.076322Z",
     "shell.execute_reply": "2024-06-11T14:51:58.075150Z",
     "shell.execute_reply.started": "2024-06-11T14:50:33.124086Z"
    }
   },
   "outputs": [
    {
     "name": "stderr",
     "output_type": "stream",
     "text": [
      "100%|██████████| 5045003/5045003 [00:56<00:00, 90064.56it/s] \n",
      "100%|██████████| 346685/346685 [00:28<00:00, 12100.84it/s]\n"
     ]
    },
    {
     "data": {
      "text/html": [
       "<div>\n",
       "<style scoped>\n",
       "    .dataframe tbody tr th:only-of-type {\n",
       "        vertical-align: middle;\n",
       "    }\n",
       "\n",
       "    .dataframe tbody tr th {\n",
       "        vertical-align: top;\n",
       "    }\n",
       "\n",
       "    .dataframe thead th {\n",
       "        text-align: right;\n",
       "    }\n",
       "</style>\n",
       "<table border=\"1\" class=\"dataframe\">\n",
       "  <thead>\n",
       "    <tr style=\"text-align: right;\">\n",
       "      <th></th>\n",
       "      <th>id</th>\n",
       "      <th>begin</th>\n",
       "      <th>end</th>\n",
       "      <th>speechContent</th>\n",
       "      <th>dateDay</th>\n",
       "      <th>dateMonth</th>\n",
       "      <th>dateYear</th>\n",
       "      <th>timestamp</th>\n",
       "      <th>length</th>\n",
       "      <th>speechTokens</th>\n",
       "    </tr>\n",
       "  </thead>\n",
       "  <tbody>\n",
       "    <tr>\n",
       "      <th>6</th>\n",
       "      <td>121</td>\n",
       "      <td>221</td>\n",
       "      <td>327</td>\n",
       "      <td>33 Ergebni der Verloosung der Wahlakten an die...</td>\n",
       "      <td>3</td>\n",
       "      <td>3</td>\n",
       "      <td>1887</td>\n",
       "      <td>-2613945600000</td>\n",
       "      <td>13</td>\n",
       "      <td>[33, Ergebni, der, Verloosung, der, Wahlakten,...</td>\n",
       "    </tr>\n",
       "    <tr>\n",
       "      <th>8</th>\n",
       "      <td>145</td>\n",
       "      <td>347</td>\n",
       "      <td>456</td>\n",
       "      <td>Diskussion zur Geschäftsordnung betreffend die...</td>\n",
       "      <td>3</td>\n",
       "      <td>3</td>\n",
       "      <td>1887</td>\n",
       "      <td>-2613945600000</td>\n",
       "      <td>13</td>\n",
       "      <td>[Diskussion, zur, Geschäftsordnung, betreffend...</td>\n",
       "    </tr>\n",
       "    <tr>\n",
       "      <th>10</th>\n",
       "      <td>169</td>\n",
       "      <td>496</td>\n",
       "      <td>586</td>\n",
       "      <td>4 6 88 Staatssekretär des Innern Staatsministe...</td>\n",
       "      <td>3</td>\n",
       "      <td>3</td>\n",
       "      <td>1887</td>\n",
       "      <td>-2613945600000</td>\n",
       "      <td>11</td>\n",
       "      <td>[4, 6, 88, Staatssekretär, des, Innern, Staats...</td>\n",
       "    </tr>\n",
       "    <tr>\n",
       "      <th>16</th>\n",
       "      <td>241</td>\n",
       "      <td>706</td>\n",
       "      <td>831</td>\n",
       "      <td>1 6 77 von Kardorff 1 1 7 88 Feststellung der ...</td>\n",
       "      <td>3</td>\n",
       "      <td>3</td>\n",
       "      <td>1887</td>\n",
       "      <td>-2613945600000</td>\n",
       "      <td>17</td>\n",
       "      <td>[1, 6, 77, von, Kardorff, 1, 1, 7, 88, Festste...</td>\n",
       "    </tr>\n",
       "    <tr>\n",
       "      <th>19</th>\n",
       "      <td>277</td>\n",
       "      <td>890</td>\n",
       "      <td>982</td>\n",
       "      <td>Die Sitzung wird um 11 Uhr 35 Minuten durch de...</td>\n",
       "      <td>3</td>\n",
       "      <td>3</td>\n",
       "      <td>1887</td>\n",
       "      <td>-2613945600000</td>\n",
       "      <td>16</td>\n",
       "      <td>[Die, Sitzung, wird, um, 11, Uhr, 35, Minuten,...</td>\n",
       "    </tr>\n",
       "  </tbody>\n",
       "</table>\n",
       "</div>"
      ],
      "text/plain": [
       "     id  begin  end                                      speechContent  \\\n",
       "6   121    221  327  33 Ergebni der Verloosung der Wahlakten an die...   \n",
       "8   145    347  456  Diskussion zur Geschäftsordnung betreffend die...   \n",
       "10  169    496  586  4 6 88 Staatssekretär des Innern Staatsministe...   \n",
       "16  241    706  831  1 6 77 von Kardorff 1 1 7 88 Feststellung der ...   \n",
       "19  277    890  982  Die Sitzung wird um 11 Uhr 35 Minuten durch de...   \n",
       "\n",
       "    dateDay  dateMonth  dateYear      timestamp  length  \\\n",
       "6         3          3      1887 -2613945600000      13   \n",
       "8         3          3      1887 -2613945600000      13   \n",
       "10        3          3      1887 -2613945600000      11   \n",
       "16        3          3      1887 -2613945600000      17   \n",
       "19        3          3      1887 -2613945600000      16   \n",
       "\n",
       "                                         speechTokens  \n",
       "6   [33, Ergebni, der, Verloosung, der, Wahlakten,...  \n",
       "8   [Diskussion, zur, Geschäftsordnung, betreffend...  \n",
       "10  [4, 6, 88, Staatssekretär, des, Innern, Staats...  \n",
       "16  [1, 6, 77, von, Kardorff, 1, 1, 7, 88, Festste...  \n",
       "19  [Die, Sitzung, wird, um, 11, Uhr, 35, Minuten,...  "
      ]
     },
     "execution_count": 5,
     "metadata": {},
     "output_type": "execute_result"
    }
   ],
   "source": [
    "tqdm.pandas()\n",
    "df_old['speechTokens'] = df_old[\"speechContent\"].progress_apply(lambda x: x.split())\n",
    "df_new['speechTokens'] = df_new[\"speechContent\"].progress_apply(lambda x: x.split())\n",
    "df_old.head()"
   ]
  },
  {
   "cell_type": "code",
   "execution_count": 9,
   "id": "649a8257",
   "metadata": {
    "execution": {
     "iopub.execute_input": "2024-06-11T14:53:00.871595Z",
     "iopub.status.busy": "2024-06-11T14:53:00.871061Z",
     "iopub.status.idle": "2024-06-11T14:57:14.410090Z",
     "shell.execute_reply": "2024-06-11T14:57:14.408669Z",
     "shell.execute_reply.started": "2024-06-11T14:53:00.871550Z"
    }
   },
   "outputs": [],
   "source": [
    "# Create a list of tokenized sentences\n",
    "sentences_new = df_new['speechTokens'].tolist()\n",
    "sentences_old = df_old['speechTokens'].tolist()\n",
    "sentences = sentences_new + sentences_old\n",
    "\n",
    "with open('training_corpus.pkl', 'wb') as f:\n",
    "    pickle.dump(sentences, f)\n"
   ]
  },
  {
   "cell_type": "code",
   "execution_count": 4,
   "id": "14825839",
   "metadata": {
    "execution": {
     "iopub.execute_input": "2024-06-11T15:53:52.736712Z",
     "iopub.status.busy": "2024-06-11T15:53:52.735591Z",
     "iopub.status.idle": "2024-06-11T17:06:54.377756Z",
     "shell.execute_reply": "2024-06-11T17:06:54.376743Z",
     "shell.execute_reply.started": "2024-06-11T15:53:52.736663Z"
    }
   },
   "outputs": [
    {
     "name": "stdout",
     "output_type": "stream",
     "text": [
      "<class 'list'>\n",
      "Building Vocabulary\n",
      "Start Training\n",
      "Epoch 1/10\n"
     ]
    },
    {
     "name": "stderr",
     "output_type": "stream",
     "text": [
      "Epoch 1: 100%|██████████| 5391688/5391688 [07:07<00:00, 12605.67sentence/s]\n"
     ]
    },
    {
     "name": "stdout",
     "output_type": "stream",
     "text": [
      "Epoch 2/10\n"
     ]
    },
    {
     "name": "stderr",
     "output_type": "stream",
     "text": [
      "Epoch 2: 100%|██████████| 5391688/5391688 [07:02<00:00, 12762.48sentence/s]\n"
     ]
    },
    {
     "name": "stdout",
     "output_type": "stream",
     "text": [
      "Epoch 3/10\n"
     ]
    },
    {
     "name": "stderr",
     "output_type": "stream",
     "text": [
      "Epoch 3: 100%|██████████| 5391688/5391688 [07:04<00:00, 12700.16sentence/s]\n"
     ]
    },
    {
     "name": "stdout",
     "output_type": "stream",
     "text": [
      "Epoch 4/10\n"
     ]
    },
    {
     "name": "stderr",
     "output_type": "stream",
     "text": [
      "Epoch 4: 100%|██████████| 5391688/5391688 [07:02<00:00, 12762.16sentence/s]\n"
     ]
    },
    {
     "name": "stdout",
     "output_type": "stream",
     "text": [
      "Epoch 5/10\n"
     ]
    },
    {
     "name": "stderr",
     "output_type": "stream",
     "text": [
      "Epoch 5: 100%|██████████| 5391688/5391688 [07:02<00:00, 12766.68sentence/s]\n"
     ]
    },
    {
     "name": "stdout",
     "output_type": "stream",
     "text": [
      "Epoch 6/10\n"
     ]
    },
    {
     "name": "stderr",
     "output_type": "stream",
     "text": [
      "Epoch 6: 100%|██████████| 5391688/5391688 [07:01<00:00, 12778.12sentence/s]\n"
     ]
    },
    {
     "name": "stdout",
     "output_type": "stream",
     "text": [
      "Epoch 7/10\n"
     ]
    },
    {
     "name": "stderr",
     "output_type": "stream",
     "text": [
      "Epoch 7: 100%|██████████| 5391688/5391688 [07:01<00:00, 12787.99sentence/s]\n"
     ]
    },
    {
     "name": "stdout",
     "output_type": "stream",
     "text": [
      "Epoch 8/10\n"
     ]
    },
    {
     "name": "stderr",
     "output_type": "stream",
     "text": [
      "Epoch 8: 100%|██████████| 5391688/5391688 [07:00<00:00, 12806.98sentence/s]\n"
     ]
    },
    {
     "name": "stdout",
     "output_type": "stream",
     "text": [
      "Epoch 9/10\n"
     ]
    },
    {
     "name": "stderr",
     "output_type": "stream",
     "text": [
      "Epoch 9: 100%|██████████| 5391688/5391688 [07:01<00:00, 12789.36sentence/s]\n"
     ]
    },
    {
     "name": "stdout",
     "output_type": "stream",
     "text": [
      "Epoch 10/10\n"
     ]
    },
    {
     "name": "stderr",
     "output_type": "stream",
     "text": [
      "Epoch 10: 100%|██████████| 5391688/5391688 [07:01<00:00, 12804.12sentence/s]\n"
     ]
    }
   ],
   "source": [
    "print(type(sentences))   \n",
    "\n",
    "# Define the Word2Vec model\n",
    "model = Word2Vec(\n",
    "    vector_size=300,\n",
    "    window=10,\n",
    "    min_count=1,\n",
    "    workers=4,\n",
    ")\n",
    "\n",
    "print(\"Building Vocabulary\")\n",
    "\n",
    "# Build vocabulary\n",
    "model.build_vocab(sentences)\n",
    "\n",
    "print(\"Start Training\")\n",
    "# Training with progress bar for each epoch\n",
    "epochs = 10\n",
    "total_sentences = len(sentences)\n",
    "\n",
    "for epoch in range(epochs):\n",
    "    print(f'Epoch {epoch+1}/{epochs}')\n",
    "    pbar = tqdm(total=total_sentences, desc=f\"Epoch {epoch+1}\", unit=\"sentence\")\n",
    "    \n",
    "    # Shuffle sentences to ensure different batches in each epoch\n",
    "    np.random.shuffle(sentences)\n",
    "    \n",
    "    # Train in batches to update the progress bar\n",
    "    batch_size = 100000  # Define your batch size\n",
    "    for i in range(0, total_sentences, batch_size):\n",
    "        batch_sentences = sentences[i:i + batch_size]\n",
    "        model.train(batch_sentences, total_examples=len(batch_sentences), epochs=1)\n",
    "        pbar.update(len(batch_sentences))\n",
    "    \n",
    "    pbar.close()\n",
    "\n",
    "# Save the model\n",
    "model.save(\"word2vec.model\")\n",
    "\n",
    "# Example: Load the model and find similar words\n",
    "#model = Word2Vec.load(\"word2vec_new.model\")"
   ]
  }
 ],
 "metadata": {
  "kaggle": {
   "accelerator": "none",
   "dataSources": [
    {
     "datasetId": 5088149,
     "sourceId": 8521550,
     "sourceType": "datasetVersion"
    },
    {
     "datasetId": 5088218,
     "sourceId": 8521638,
     "sourceType": "datasetVersion"
    },
    {
     "datasetId": 5192247,
     "sourceId": 8665026,
     "sourceType": "datasetVersion"
    }
   ],
   "dockerImageVersionId": 30698,
   "isGpuEnabled": false,
   "isInternetEnabled": true,
   "language": "python",
   "sourceType": "notebook"
  },
  "kernelspec": {
   "display_name": "Python 3 (ipykernel)",
   "language": "python",
   "name": "python3"
  },
  "language_info": {
   "codemirror_mode": {
    "name": "ipython",
    "version": 3
   },
   "file_extension": ".py",
   "mimetype": "text/x-python",
   "name": "python",
   "nbconvert_exporter": "python",
   "pygments_lexer": "ipython3",
   "version": "3.11.4"
  }
 },
 "nbformat": 4,
 "nbformat_minor": 5
}
