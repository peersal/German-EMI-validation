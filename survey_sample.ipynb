{
 "cells": [
  {
   "cell_type": "code",
   "execution_count": 2,
   "id": "fbcd907f-f145-4b35-bde1-492975c7d6d4",
   "metadata": {
    "tags": []
   },
   "outputs": [],
   "source": [
    "import pandas as pd \n",
    "import random"
   ]
  },
  {
   "cell_type": "code",
   "execution_count": null,
   "id": "8ab50678-191b-418a-ac07-a8d740337156",
   "metadata": {
    "tags": []
   },
   "outputs": [],
   "source": [
    "df_old = pd.read_csv(\"speeches_old_emi.csv\")\n",
    "df_new = pd.read_csv(\"speeches_new_emi.csv\")"
   ]
  },
  {
   "cell_type": "code",
   "execution_count": null,
   "id": "b935d2d3-d5ab-490d-84bb-c4101346a3c4",
   "metadata": {},
   "outputs": [],
   "source": [
    "def sample(df):\n",
    "    sampled_df = pd.DataFrame()\n",
    "    decades = df['decade'].unique()\n",
    "    bins = df['evidence_intuition_bin'].unique()\n",
    "    bins_count = 4  # We have created 4 bins\n",
    "\n",
    "    for decade in decades:\n",
    "        decade_df = df[df['decade'] == decade]\n",
    "\n",
    "        # Calculate how many rows to sample from each bin\n",
    "        per_bin_sample = 52 // bins_count\n",
    "\n",
    "        for binn in bins:\n",
    "            bin_df = decade_df[decade_df['evidence_intuition_bin'] == binn]\n",
    "            if len(bin_df) >= per_bin_sample:\n",
    "                sampled_bin = bin_df.sample(per_bin_sample, random_state=1)\n",
    "            else:\n",
    "                sampled_bin = bin_df\n",
    "\n",
    "            sampled_df = pd.concat([sampled_df, sampled_bin])\n",
    "            \n",
    "    return sampled_df"
   ]
  },
  {
   "cell_type": "code",
   "execution_count": null,
   "id": "009aaf3b-29b6-4d3b-8a73-e1a34c35748e",
   "metadata": {},
   "outputs": [],
   "source": [
    "df_new\n",
    "# Define the bins based on the min and max of the evidence_minus_intuition_score\n",
    "min_val = df_new['evidence_minus_intuition_score'].min() - 0.00001\n",
    "max_val = df_new['evidence_minus_intuition_score'].max() + 0.00001\n",
    "bins = pd.interval_range(start=min_val, end=max_val, periods=4)\n",
    "\n",
    "# Create the bins and add them to the dataframe\n",
    "df_new['evidence_intuition_bin'] = pd.cut(df_new['evidence_minus_intuition_score'], bins=bins, labels=range(4))\n",
    "\n",
    "\n",
    "# Converting the 'Date' column to datetime format\n",
    "df_new['year'] = pd.to_datetime(df['date'])\n",
    "\n",
    "# Extracting the year and replacing the 'Date' column with the year only\n",
    "df_new['year'] = df['year'].dt.year\n",
    "\n",
    "# Create a new column for decades\n",
    "df_new['decade'] = (df_new['year'] // 10) * 10\n",
    "\n",
    "\n",
    "# Apply the function to the DataFrame with party consideration\n",
    "#sampled_df = sample_uniformly(df_new, 'decade', 'evidence_intuition_bin', 'factionId', sample_size=50, party=True)\n",
    "sampled_df1 = sample(df_new)\n",
    "sampled_df1 = sampled_df1[[\"id\",'year', 'speechContent','evidence_minus_intuition_score']]\n",
    "sampled_df1"
   ]
  },
  {
   "cell_type": "code",
   "execution_count": null,
   "id": "bf79b352-cc01-4129-a195-1b2e949786da",
   "metadata": {},
   "outputs": [],
   "source": [
    "# Create a new column for decades\n",
    "\n",
    "# Define the bins based on the min and max of the evidence_minus_intuition_score\n",
    "min_val = df_old['evidence_minus_intuition_score'].min() - 0.00001\n",
    "max_val = df_old['evidence_minus_intuition_score'].max() + 0.00001\n",
    "bins = pd.interval_range(start=min_val, end=max_val, periods=4)\n",
    "\n",
    "# Create the bins and add them to the dataframe\n",
    "df_old['evidence_intuition_bin'] = pd.cut(df_old['evidence_minus_intuition_score'], bins=bins, labels=range(4))\n",
    "df_old['decade'] = (df_old['dateYear'] // 10) * 10\n",
    "\n",
    "sampled_df2 = sample(df_old)\n",
    "sampled_df2 = sampled_df2[[\"id\",'dateYear', 'speechContent', 'evidence_minus_intuition_score']]\n",
    "try:\n",
    "    sampled_df2 = sampled_df2.rename(columns={'dateYear': 'year'})\n",
    "except:\n",
    "    pass\n",
    "sampled_df2"
   ]
  },
  {
   "cell_type": "code",
   "execution_count": null,
   "id": "a57d5c14-d554-4c9e-8074-7d3a35152381",
   "metadata": {},
   "outputs": [],
   "source": [
    "sample = pd.concat([sampled_df1, sampled_df2], ignore_index=True)\n",
    "sample.to_csv(\"sample.csv\", index = False)"
   ]
  }
 ],
 "metadata": {
  "kernelspec": {
   "display_name": "Python 3 (ipykernel)",
   "language": "python",
   "name": "python3"
  },
  "language_info": {
   "codemirror_mode": {
    "name": "ipython",
    "version": 3
   },
   "file_extension": ".py",
   "mimetype": "text/x-python",
   "name": "python",
   "nbconvert_exporter": "python",
   "pygments_lexer": "ipython3",
   "version": "3.11.4"
  }
 },
 "nbformat": 4,
 "nbformat_minor": 5
}
